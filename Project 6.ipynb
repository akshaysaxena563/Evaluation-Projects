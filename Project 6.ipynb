{
 "cells": [
  {
   "cell_type": "code",
   "execution_count": 114,
   "metadata": {},
   "outputs": [],
   "source": [
    "import numpy as np\n",
    "import pandas as pd\n",
    "import matplotlib.pyplot as plt\n",
    "import seaborn as sns\n",
    "import sklearn\n",
    "from scipy.stats import zscore\n",
    "from scipy.stats import boxcox"
   ]
  },
  {
   "cell_type": "code",
   "execution_count": 115,
   "metadata": {},
   "outputs": [
    {
     "data": {
      "text/html": [
       "<div>\n",
       "<style scoped>\n",
       "    .dataframe tbody tr th:only-of-type {\n",
       "        vertical-align: middle;\n",
       "    }\n",
       "\n",
       "    .dataframe tbody tr th {\n",
       "        vertical-align: top;\n",
       "    }\n",
       "\n",
       "    .dataframe thead th {\n",
       "        text-align: right;\n",
       "    }\n",
       "</style>\n",
       "<table border=\"1\" class=\"dataframe\">\n",
       "  <thead>\n",
       "    <tr style=\"text-align: right;\">\n",
       "      <th></th>\n",
       "      <th>TV</th>\n",
       "      <th>radio</th>\n",
       "      <th>newspaper</th>\n",
       "      <th>sales</th>\n",
       "    </tr>\n",
       "  </thead>\n",
       "  <tbody>\n",
       "    <tr>\n",
       "      <th>1</th>\n",
       "      <td>230.1</td>\n",
       "      <td>37.8</td>\n",
       "      <td>69.2</td>\n",
       "      <td>22.1</td>\n",
       "    </tr>\n",
       "    <tr>\n",
       "      <th>2</th>\n",
       "      <td>44.5</td>\n",
       "      <td>39.3</td>\n",
       "      <td>45.1</td>\n",
       "      <td>10.4</td>\n",
       "    </tr>\n",
       "    <tr>\n",
       "      <th>3</th>\n",
       "      <td>17.2</td>\n",
       "      <td>45.9</td>\n",
       "      <td>69.3</td>\n",
       "      <td>9.3</td>\n",
       "    </tr>\n",
       "    <tr>\n",
       "      <th>4</th>\n",
       "      <td>151.5</td>\n",
       "      <td>41.3</td>\n",
       "      <td>58.5</td>\n",
       "      <td>18.5</td>\n",
       "    </tr>\n",
       "    <tr>\n",
       "      <th>5</th>\n",
       "      <td>180.8</td>\n",
       "      <td>10.8</td>\n",
       "      <td>58.4</td>\n",
       "      <td>12.9</td>\n",
       "    </tr>\n",
       "  </tbody>\n",
       "</table>\n",
       "</div>"
      ],
      "text/plain": [
       "      TV  radio  newspaper  sales\n",
       "1  230.1   37.8       69.2   22.1\n",
       "2   44.5   39.3       45.1   10.4\n",
       "3   17.2   45.9       69.3    9.3\n",
       "4  151.5   41.3       58.5   18.5\n",
       "5  180.8   10.8       58.4   12.9"
      ]
     },
     "execution_count": 115,
     "metadata": {},
     "output_type": "execute_result"
    }
   ],
   "source": [
    "df_adv=pd.read_csv(\"Advertising.csv\",index_col=0)\n",
    "df_adv.head()"
   ]
  },
  {
   "cell_type": "code",
   "execution_count": 116,
   "metadata": {},
   "outputs": [
    {
     "data": {
      "text/html": [
       "<div>\n",
       "<style scoped>\n",
       "    .dataframe tbody tr th:only-of-type {\n",
       "        vertical-align: middle;\n",
       "    }\n",
       "\n",
       "    .dataframe tbody tr th {\n",
       "        vertical-align: top;\n",
       "    }\n",
       "\n",
       "    .dataframe thead th {\n",
       "        text-align: right;\n",
       "    }\n",
       "</style>\n",
       "<table border=\"1\" class=\"dataframe\">\n",
       "  <thead>\n",
       "    <tr style=\"text-align: right;\">\n",
       "      <th></th>\n",
       "      <th>TV</th>\n",
       "      <th>radio</th>\n",
       "      <th>newspaper</th>\n",
       "      <th>sales</th>\n",
       "    </tr>\n",
       "  </thead>\n",
       "  <tbody>\n",
       "    <tr>\n",
       "      <th>196</th>\n",
       "      <td>38.2</td>\n",
       "      <td>3.7</td>\n",
       "      <td>13.8</td>\n",
       "      <td>7.6</td>\n",
       "    </tr>\n",
       "    <tr>\n",
       "      <th>197</th>\n",
       "      <td>94.2</td>\n",
       "      <td>4.9</td>\n",
       "      <td>8.1</td>\n",
       "      <td>9.7</td>\n",
       "    </tr>\n",
       "    <tr>\n",
       "      <th>198</th>\n",
       "      <td>177.0</td>\n",
       "      <td>9.3</td>\n",
       "      <td>6.4</td>\n",
       "      <td>12.8</td>\n",
       "    </tr>\n",
       "    <tr>\n",
       "      <th>199</th>\n",
       "      <td>283.6</td>\n",
       "      <td>42.0</td>\n",
       "      <td>66.2</td>\n",
       "      <td>25.5</td>\n",
       "    </tr>\n",
       "    <tr>\n",
       "      <th>200</th>\n",
       "      <td>232.1</td>\n",
       "      <td>8.6</td>\n",
       "      <td>8.7</td>\n",
       "      <td>13.4</td>\n",
       "    </tr>\n",
       "  </tbody>\n",
       "</table>\n",
       "</div>"
      ],
      "text/plain": [
       "        TV  radio  newspaper  sales\n",
       "196   38.2    3.7       13.8    7.6\n",
       "197   94.2    4.9        8.1    9.7\n",
       "198  177.0    9.3        6.4   12.8\n",
       "199  283.6   42.0       66.2   25.5\n",
       "200  232.1    8.6        8.7   13.4"
      ]
     },
     "execution_count": 116,
     "metadata": {},
     "output_type": "execute_result"
    }
   ],
   "source": [
    "df_adv.tail()"
   ]
  },
  {
   "cell_type": "code",
   "execution_count": 117,
   "metadata": {},
   "outputs": [
    {
     "data": {
      "text/plain": [
       "Index(['TV', 'radio', 'newspaper', 'sales'], dtype='object')"
      ]
     },
     "execution_count": 117,
     "metadata": {},
     "output_type": "execute_result"
    }
   ],
   "source": [
    "df_adv.columns"
   ]
  },
  {
   "cell_type": "code",
   "execution_count": 118,
   "metadata": {},
   "outputs": [
    {
     "data": {
      "text/plain": [
       "(200, 4)"
      ]
     },
     "execution_count": 118,
     "metadata": {},
     "output_type": "execute_result"
    }
   ],
   "source": [
    "df_adv.shape"
   ]
  },
  {
   "cell_type": "code",
   "execution_count": 119,
   "metadata": {},
   "outputs": [
    {
     "name": "stdout",
     "output_type": "stream",
     "text": [
      "<class 'pandas.core.frame.DataFrame'>\n",
      "Int64Index: 200 entries, 1 to 200\n",
      "Data columns (total 4 columns):\n",
      " #   Column     Non-Null Count  Dtype  \n",
      "---  ------     --------------  -----  \n",
      " 0   TV         200 non-null    float64\n",
      " 1   radio      200 non-null    float64\n",
      " 2   newspaper  200 non-null    float64\n",
      " 3   sales      200 non-null    float64\n",
      "dtypes: float64(4)\n",
      "memory usage: 7.8 KB\n"
     ]
    }
   ],
   "source": [
    "#To check the data types and null values\n",
    "df_adv.info()"
   ]
  },
  {
   "cell_type": "code",
   "execution_count": 120,
   "metadata": {},
   "outputs": [
    {
     "data": {
      "text/html": [
       "<div>\n",
       "<style scoped>\n",
       "    .dataframe tbody tr th:only-of-type {\n",
       "        vertical-align: middle;\n",
       "    }\n",
       "\n",
       "    .dataframe tbody tr th {\n",
       "        vertical-align: top;\n",
       "    }\n",
       "\n",
       "    .dataframe thead th {\n",
       "        text-align: right;\n",
       "    }\n",
       "</style>\n",
       "<table border=\"1\" class=\"dataframe\">\n",
       "  <thead>\n",
       "    <tr style=\"text-align: right;\">\n",
       "      <th></th>\n",
       "      <th>TV</th>\n",
       "      <th>radio</th>\n",
       "      <th>newspaper</th>\n",
       "      <th>sales</th>\n",
       "    </tr>\n",
       "  </thead>\n",
       "  <tbody>\n",
       "    <tr>\n",
       "      <th>count</th>\n",
       "      <td>200.000000</td>\n",
       "      <td>200.000000</td>\n",
       "      <td>200.000000</td>\n",
       "      <td>200.000000</td>\n",
       "    </tr>\n",
       "    <tr>\n",
       "      <th>mean</th>\n",
       "      <td>147.042500</td>\n",
       "      <td>23.264000</td>\n",
       "      <td>30.554000</td>\n",
       "      <td>14.022500</td>\n",
       "    </tr>\n",
       "    <tr>\n",
       "      <th>std</th>\n",
       "      <td>85.854236</td>\n",
       "      <td>14.846809</td>\n",
       "      <td>21.778621</td>\n",
       "      <td>5.217457</td>\n",
       "    </tr>\n",
       "    <tr>\n",
       "      <th>min</th>\n",
       "      <td>0.700000</td>\n",
       "      <td>0.000000</td>\n",
       "      <td>0.300000</td>\n",
       "      <td>1.600000</td>\n",
       "    </tr>\n",
       "    <tr>\n",
       "      <th>25%</th>\n",
       "      <td>74.375000</td>\n",
       "      <td>9.975000</td>\n",
       "      <td>12.750000</td>\n",
       "      <td>10.375000</td>\n",
       "    </tr>\n",
       "    <tr>\n",
       "      <th>50%</th>\n",
       "      <td>149.750000</td>\n",
       "      <td>22.900000</td>\n",
       "      <td>25.750000</td>\n",
       "      <td>12.900000</td>\n",
       "    </tr>\n",
       "    <tr>\n",
       "      <th>75%</th>\n",
       "      <td>218.825000</td>\n",
       "      <td>36.525000</td>\n",
       "      <td>45.100000</td>\n",
       "      <td>17.400000</td>\n",
       "    </tr>\n",
       "    <tr>\n",
       "      <th>max</th>\n",
       "      <td>296.400000</td>\n",
       "      <td>49.600000</td>\n",
       "      <td>114.000000</td>\n",
       "      <td>27.000000</td>\n",
       "    </tr>\n",
       "  </tbody>\n",
       "</table>\n",
       "</div>"
      ],
      "text/plain": [
       "               TV       radio   newspaper       sales\n",
       "count  200.000000  200.000000  200.000000  200.000000\n",
       "mean   147.042500   23.264000   30.554000   14.022500\n",
       "std     85.854236   14.846809   21.778621    5.217457\n",
       "min      0.700000    0.000000    0.300000    1.600000\n",
       "25%     74.375000    9.975000   12.750000   10.375000\n",
       "50%    149.750000   22.900000   25.750000   12.900000\n",
       "75%    218.825000   36.525000   45.100000   17.400000\n",
       "max    296.400000   49.600000  114.000000   27.000000"
      ]
     },
     "execution_count": 120,
     "metadata": {},
     "output_type": "execute_result"
    }
   ],
   "source": [
    "#Statistical analysis of data\n",
    "df_adv.describe()"
   ]
  },
  {
   "cell_type": "code",
   "execution_count": 121,
   "metadata": {},
   "outputs": [
    {
     "data": {
      "image/png": "[encoded data removed]",
      "text/plain": [
       "<Figure size 432x288 with 1 Axes>"
      ]
     },
     "metadata": {
      "needs_background": "light"
     },
     "output_type": "display_data"
    }
   ],
   "source": [
    "#Box plot is created to check the outliers in the data\n",
    "fig, ax = plt.subplots()\n",
    "ax.boxplot([df_adv[\"TV\"],df_adv[\"radio\"],df_adv['newspaper']])\n",
    "ax.set_xticklabels([\"TV\",\"Radio\",\"Newspaper\"])\n",
    "ax.set_ylabel(\"Dollars spent(1000s)\")\n",
    "plt.show()\n",
    "#2 outliers were found in 'newspaper' colummn"
   ]
  },
  {
   "cell_type": "code",
   "execution_count": 122,
   "metadata": {},
   "outputs": [
    {
     "data": {
      "text/html": [
       "<div>\n",
       "<style scoped>\n",
       "    .dataframe tbody tr th:only-of-type {\n",
       "        vertical-align: middle;\n",
       "    }\n",
       "\n",
       "    .dataframe tbody tr th {\n",
       "        vertical-align: top;\n",
       "    }\n",
       "\n",
       "    .dataframe thead th {\n",
       "        text-align: right;\n",
       "    }\n",
       "</style>\n",
       "<table border=\"1\" class=\"dataframe\">\n",
       "  <thead>\n",
       "    <tr style=\"text-align: right;\">\n",
       "      <th></th>\n",
       "      <th>TV</th>\n",
       "      <th>radio</th>\n",
       "      <th>newspaper</th>\n",
       "      <th>sales</th>\n",
       "    </tr>\n",
       "  </thead>\n",
       "  <tbody>\n",
       "    <tr>\n",
       "      <th>17</th>\n",
       "      <td>67.8</td>\n",
       "      <td>36.6</td>\n",
       "      <td>114.0</td>\n",
       "      <td>12.5</td>\n",
       "    </tr>\n",
       "    <tr>\n",
       "      <th>102</th>\n",
       "      <td>296.4</td>\n",
       "      <td>36.3</td>\n",
       "      <td>100.9</td>\n",
       "      <td>23.8</td>\n",
       "    </tr>\n",
       "  </tbody>\n",
       "</table>\n",
       "</div>"
      ],
      "text/plain": [
       "        TV  radio  newspaper  sales\n",
       "17    67.8   36.6      114.0   12.5\n",
       "102  296.4   36.3      100.9   23.8"
      ]
     },
     "execution_count": 122,
     "metadata": {},
     "output_type": "execute_result"
    }
   ],
   "source": [
    "df_adv[df_adv.newspaper>90]"
   ]
  },
  {
   "cell_type": "code",
   "execution_count": 123,
   "metadata": {},
   "outputs": [
    {
     "data": {
      "text/html": [
       "<div>\n",
       "<style scoped>\n",
       "    .dataframe tbody tr th:only-of-type {\n",
       "        vertical-align: middle;\n",
       "    }\n",
       "\n",
       "    .dataframe tbody tr th {\n",
       "        vertical-align: top;\n",
       "    }\n",
       "\n",
       "    .dataframe thead th {\n",
       "        text-align: right;\n",
       "    }\n",
       "</style>\n",
       "<table border=\"1\" class=\"dataframe\">\n",
       "  <thead>\n",
       "    <tr style=\"text-align: right;\">\n",
       "      <th></th>\n",
       "      <th>TV</th>\n",
       "      <th>radio</th>\n",
       "      <th>newspaper</th>\n",
       "      <th>sales</th>\n",
       "    </tr>\n",
       "  </thead>\n",
       "  <tbody>\n",
       "    <tr>\n",
       "      <th>17</th>\n",
       "      <td>67.8</td>\n",
       "      <td>36.6</td>\n",
       "      <td>114.0</td>\n",
       "      <td>12.5</td>\n",
       "    </tr>\n",
       "    <tr>\n",
       "      <th>76</th>\n",
       "      <td>16.9</td>\n",
       "      <td>43.7</td>\n",
       "      <td>89.4</td>\n",
       "      <td>8.7</td>\n",
       "    </tr>\n",
       "    <tr>\n",
       "      <th>102</th>\n",
       "      <td>296.4</td>\n",
       "      <td>36.3</td>\n",
       "      <td>100.9</td>\n",
       "      <td>23.8</td>\n",
       "    </tr>\n",
       "    <tr>\n",
       "      <th>119</th>\n",
       "      <td>125.7</td>\n",
       "      <td>36.9</td>\n",
       "      <td>79.2</td>\n",
       "      <td>15.9</td>\n",
       "    </tr>\n",
       "    <tr>\n",
       "      <th>142</th>\n",
       "      <td>193.7</td>\n",
       "      <td>35.4</td>\n",
       "      <td>75.6</td>\n",
       "      <td>19.2</td>\n",
       "    </tr>\n",
       "    <tr>\n",
       "      <th>166</th>\n",
       "      <td>234.5</td>\n",
       "      <td>3.4</td>\n",
       "      <td>84.8</td>\n",
       "      <td>11.9</td>\n",
       "    </tr>\n",
       "  </tbody>\n",
       "</table>\n",
       "</div>"
      ],
      "text/plain": [
       "        TV  radio  newspaper  sales\n",
       "17    67.8   36.6      114.0   12.5\n",
       "76    16.9   43.7       89.4    8.7\n",
       "102  296.4   36.3      100.9   23.8\n",
       "119  125.7   36.9       79.2   15.9\n",
       "142  193.7   35.4       75.6   19.2\n",
       "166  234.5    3.4       84.8   11.9"
      ]
     },
     "execution_count": 123,
     "metadata": {},
     "output_type": "execute_result"
    }
   ],
   "source": [
    "#Checking of potential outlier data\n",
    "df_adv[df_adv.newspaper>75]"
   ]
  },
  {
   "cell_type": "code",
   "execution_count": 124,
   "metadata": {},
   "outputs": [
    {
     "data": {
      "text/html": [
       "<div>\n",
       "<style scoped>\n",
       "    .dataframe tbody tr th:only-of-type {\n",
       "        vertical-align: middle;\n",
       "    }\n",
       "\n",
       "    .dataframe tbody tr th {\n",
       "        vertical-align: top;\n",
       "    }\n",
       "\n",
       "    .dataframe thead th {\n",
       "        text-align: right;\n",
       "    }\n",
       "</style>\n",
       "<table border=\"1\" class=\"dataframe\">\n",
       "  <thead>\n",
       "    <tr style=\"text-align: right;\">\n",
       "      <th></th>\n",
       "      <th>TV</th>\n",
       "      <th>radio</th>\n",
       "      <th>newspaper</th>\n",
       "      <th>sales</th>\n",
       "    </tr>\n",
       "  </thead>\n",
       "  <tbody>\n",
       "    <tr>\n",
       "      <th>TV</th>\n",
       "      <td>1.000000</td>\n",
       "      <td>0.054809</td>\n",
       "      <td>0.056648</td>\n",
       "      <td>0.782224</td>\n",
       "    </tr>\n",
       "    <tr>\n",
       "      <th>radio</th>\n",
       "      <td>0.054809</td>\n",
       "      <td>1.000000</td>\n",
       "      <td>0.354104</td>\n",
       "      <td>0.576223</td>\n",
       "    </tr>\n",
       "    <tr>\n",
       "      <th>newspaper</th>\n",
       "      <td>0.056648</td>\n",
       "      <td>0.354104</td>\n",
       "      <td>1.000000</td>\n",
       "      <td>0.228299</td>\n",
       "    </tr>\n",
       "    <tr>\n",
       "      <th>sales</th>\n",
       "      <td>0.782224</td>\n",
       "      <td>0.576223</td>\n",
       "      <td>0.228299</td>\n",
       "      <td>1.000000</td>\n",
       "    </tr>\n",
       "  </tbody>\n",
       "</table>\n",
       "</div>"
      ],
      "text/plain": [
       "                 TV     radio  newspaper     sales\n",
       "TV         1.000000  0.054809   0.056648  0.782224\n",
       "radio      0.054809  1.000000   0.354104  0.576223\n",
       "newspaper  0.056648  0.354104   1.000000  0.228299\n",
       "sales      0.782224  0.576223   0.228299  1.000000"
      ]
     },
     "execution_count": 124,
     "metadata": {},
     "output_type": "execute_result"
    }
   ],
   "source": [
    "#To check the correlations in data\n",
    "df_adv.corr()"
   ]
  },
  {
   "cell_type": "code",
   "execution_count": 125,
   "metadata": {},
   "outputs": [
    {
     "name": "stderr",
     "output_type": "stream",
     "text": [
      "C:\\Users\\j\\anaconda3\\lib\\site-packages\\seaborn\\axisgrid.py:2079: UserWarning: The `size` parameter has been renamed to `height`; please update your code.\n",
      "  warnings.warn(msg, UserWarning)\n"
     ]
    },
    {
     "data": {
      "text/plain": [
       "<seaborn.axisgrid.PairGrid at 0xa8ebcd8448>"
      ]
     },
     "execution_count": 125,
     "metadata": {},
     "output_type": "execute_result"
    },
    {
     "data": {
      "image/png": "[encoded data removed]",
      "text/plain": [
       "<Figure size 1296x432 with 3 Axes>"
      ]
     },
     "metadata": {
      "needs_background": "light"
     },
     "output_type": "display_data"
    }
   ],
   "source": [
    "#To visualize the correlation between sales and other input variables\n",
    "sns.pairplot(df_adv, x_vars=['TV', 'radio', 'newspaper'], y_vars='sales',size=6, kind='reg')\n",
    "\n",
    "#Relationship between money spent on TV advertising and sales is positive and strong\n",
    "#Relationship between money spent on Radio advertising and sales is positive but not strong\n",
    "#Relationship between money spent on Newspaper advertising and sales is positive but weak"
   ]
  },
  {
   "cell_type": "code",
   "execution_count": 126,
   "metadata": {},
   "outputs": [
    {
     "data": {
      "image/png": "[encoded data removed]",
      "text/plain": [
       "<Figure size 1296x432 with 4 Axes>"
      ]
     },
     "metadata": {
      "needs_background": "light"
     },
     "output_type": "display_data"
    }
   ],
   "source": [
    "col_list=df_adv.columns.values\n",
    "plt.figure(figsize=(18,6))\n",
    "for i in range(0, len(col_list)):                                       #Distplot is used To check the skewness\n",
    "    plt.subplot(1,4,i+1)\n",
    "    sns.distplot(df_adv[col_list[i]])\n",
    "#Although newspaper graph is slightly right skewed, but due to its weak relationship with sales, we will leave it as it is."
   ]
  },
  {
   "cell_type": "code",
   "execution_count": 127,
   "metadata": {},
   "outputs": [
    {
     "data": {
      "text/plain": [
       "(200, 4)"
      ]
     },
     "execution_count": 127,
     "metadata": {},
     "output_type": "execute_result"
    }
   ],
   "source": [
    "#To check and drop duplicates in date\n",
    "df_adv=df_adv.drop_duplicates()\n",
    "df_adv.shape"
   ]
  },
  {
   "cell_type": "code",
   "execution_count": 128,
   "metadata": {},
   "outputs": [
    {
     "name": "stdout",
     "output_type": "stream",
     "text": [
      "(200, 4)\n",
      "(198, 4)\n"
     ]
    }
   ],
   "source": [
    "from scipy.stats import zscore\n",
    "z_score=abs(zscore(df_adv))\n",
    "print(df_adv.shape)\n",
    "df_adv_final=df_adv.loc[(z_score<3).all(axis=1)]                  \n",
    "print(df_adv_final.shape)\n",
    "#to quantify the outliers"
   ]
  },
  {
   "cell_type": "code",
   "execution_count": 129,
   "metadata": {},
   "outputs": [],
   "source": [
    "df_adv=df_adv[(z_score<3).all(axis=1)]\n",
    "#To remove the outliers"
   ]
  },
  {
   "cell_type": "code",
   "execution_count": 130,
   "metadata": {},
   "outputs": [],
   "source": [
    "from sklearn.model_selection import train_test_split\n",
    "from sklearn.model_selection import cross_val_score\n",
    "from sklearn.metrics import mean_absolute_error\n",
    "from sklearn.metrics import mean_squared_error\n",
    "from sklearn.metrics import r2_score\n",
    "from sklearn import linear_model\n",
    "from sklearn.linear_model import LinearRegression\n",
    "from sklearn.tree import DecisionTreeRegressor\n",
    "from sklearn.neighbors import KNeighborsRegressor\n",
    "from sklearn.naive_bayes import GaussianNB\n",
    "from sklearn.svm import SVR\n",
    "from sklearn.preprocessing import StandardScaler\n",
    "from sklearn.model_selection import GridSearchCV"
   ]
  },
  {
   "cell_type": "code",
   "execution_count": 131,
   "metadata": {},
   "outputs": [],
   "source": [
    "#Splitting of data\n",
    "x=df_adv.iloc[:,:3]\n",
    "y=df_adv['sales']"
   ]
  },
  {
   "cell_type": "code",
   "execution_count": 132,
   "metadata": {},
   "outputs": [
    {
     "name": "stdout",
     "output_type": "stream",
     "text": [
      "(198, 3)\n",
      "(198,)\n"
     ]
    }
   ],
   "source": [
    "print(x.shape)\n",
    "print(y.shape)"
   ]
  },
  {
   "cell_type": "code",
   "execution_count": 133,
   "metadata": {},
   "outputs": [],
   "source": [
    "sc = StandardScaler()\n",
    "x = sc.fit_transform(x)\n",
    "#scaling down using standardscalar"
   ]
  },
  {
   "cell_type": "code",
   "execution_count": 134,
   "metadata": {},
   "outputs": [
    {
     "name": "stdout",
     "output_type": "stream",
     "text": [
      "0.8989454779619588\n",
      "0.9697582503474897\n",
      "0.9214432262927645\n",
      "0.9390950886882399\n"
     ]
    }
   ],
   "source": [
    "#Testing the models at random state 42 along with their r2 score\n",
    "x_train,x_test,y_train,y_test= train_test_split(x,y,random_state=42,test_size=0.20)\n",
    "model=[LinearRegression(),DecisionTreeRegressor(),SVR(),KNeighborsRegressor()]\n",
    "\n",
    "for m in model:\n",
    "    m.fit(x_train,y_train)\n",
    "    predm=m.predict(x_test)\n",
    "    print(r2_score(y_test,predm))\n",
    "\n",
    "#After the testing several models, we have found that DecisionTreeRegressor is giving highest r2 score at random state 42."
   ]
  },
  {
   "cell_type": "code",
   "execution_count": 135,
   "metadata": {},
   "outputs": [
    {
     "name": "stdout",
     "output_type": "stream",
     "text": [
      "r2 score corresponding to random state:  42  is:  0.8989454779619588\n",
      "r2 score corresponding to random state:  43  is:  0.8751484803695656\n",
      "r2 score corresponding to random state:  44  is:  0.8117000632290441\n",
      "r2 score corresponding to random state:  45  is:  0.8747422037972019\n",
      "r2 score corresponding to random state:  46  is:  0.8726271917983102\n",
      "r2 score corresponding to random state:  47  is:  0.8922946750347813\n",
      "r2 score corresponding to random state:  48  is:  0.866237899668671\n",
      "r2 score corresponding to random state:  49  is:  0.8351144932670392\n",
      "r2 score corresponding to random state:  50  is:  0.842978540309269\n",
      "r2 score corresponding to random state:  51  is:  0.8969749608189316\n",
      "r2 score corresponding to random state:  52  is:  0.8925145995117171\n",
      "r2 score corresponding to random state:  53  is:  0.8524939615808071\n",
      "r2 score corresponding to random state:  54  is:  0.8776799027550092\n",
      "r2 score corresponding to random state:  55  is:  0.8977109139390169\n",
      "r2 score corresponding to random state:  56  is:  0.8436665154822788\n",
      "r2 score corresponding to random state:  57  is:  0.865206036731957\n",
      "r2 score corresponding to random state:  58  is:  0.9301139220125181\n",
      "r2 score corresponding to random state:  59  is:  0.9184306555712066\n",
      "r2 score corresponding to random state:  60  is:  0.8823000359749914\n",
      "r2 score corresponding to random state:  61  is:  0.8532975619375341\n",
      "r2 score corresponding to random state:  62  is:  0.8571507573921291\n",
      "r2 score corresponding to random state:  63  is:  0.8972874269449633\n",
      "r2 score corresponding to random state:  64  is:  0.9267279065103222\n",
      "r2 score corresponding to random state:  65  is:  0.8825466552554457\n",
      "r2 score corresponding to random state:  66  is:  0.8744920660734806\n",
      "r2 score corresponding to random state:  67  is:  0.905787440117047\n",
      "r2 score corresponding to random state:  68  is:  0.8617429493016013\n",
      "r2 score corresponding to random state:  69  is:  0.906070694321867\n",
      "r2 score corresponding to random state:  70  is:  0.9265656652996626\n",
      "r2 score corresponding to random state:  71  is:  0.8071830117377918\n",
      "r2 score corresponding to random state:  72  is:  0.9212755833741662\n",
      "r2 score corresponding to random state:  73  is:  0.8849214355996005\n",
      "r2 score corresponding to random state:  74  is:  0.9298308020128558\n",
      "r2 score corresponding to random state:  75  is:  0.8756772369429392\n",
      "r2 score corresponding to random state:  76  is:  0.8516126265709411\n",
      "r2 score corresponding to random state:  77  is:  0.9166905563751222\n",
      "r2 score corresponding to random state:  78  is:  0.7902344027203058\n",
      "r2 score corresponding to random state:  79  is:  0.9014406236580842\n",
      "r2 score corresponding to random state:  80  is:  0.9037187128234276\n",
      "r2 score corresponding to random state:  81  is:  0.9199455602534609\n",
      "r2 score corresponding to random state:  82  is:  0.839876824043998\n",
      "r2 score corresponding to random state:  83  is:  0.8791148089196503\n",
      "r2 score corresponding to random state:  84  is:  0.9292654473438203\n",
      "r2 score corresponding to random state:  85  is:  0.7705544702687278\n",
      "r2 score corresponding to random state:  86  is:  0.9047661303024037\n",
      "r2 score corresponding to random state:  87  is:  0.8087421010289434\n",
      "r2 score corresponding to random state:  88  is:  0.8837353565017301\n",
      "r2 score corresponding to random state:  89  is:  0.845842124811012\n",
      "r2 score corresponding to random state:  90  is:  0.9477136584598765\n",
      "r2 score corresponding to random state:  91  is:  0.8986272987144843\n",
      "r2 score corresponding to random state:  92  is:  0.8937806772897252\n",
      "r2 score corresponding to random state:  93  is:  0.8435303584836114\n",
      "r2 score corresponding to random state:  94  is:  0.8679025522688203\n",
      "r2 score corresponding to random state:  95  is:  0.8479116409360148\n",
      "r2 score corresponding to random state:  96  is:  0.8549819020058949\n",
      "r2 score corresponding to random state:  97  is:  0.8975724260460941\n",
      "r2 score corresponding to random state:  98  is:  0.8382459156006744\n",
      "r2 score corresponding to random state:  99  is:  0.9300192208914475\n",
      "r2 score corresponding to random state:  100  is:  0.8556177767066229\n",
      "\n",
      "\n",
      "max r2 score corresponding to  90  is  0.9477136584598765\n"
     ]
    }
   ],
   "source": [
    "#Now we will check at what randome state, LinearRegression model will give highest r2 score.\n",
    "max_r_score=0\n",
    "for r_state in range(42,101):\n",
    "    x_train,x_test,y_train,y_test= train_test_split(x,y,random_state=r_state,test_size=0.20)\n",
    "    regr=linear_model.LinearRegression()\n",
    "    regr.fit(x_train,y_train)\n",
    "    y_pred=regr.predict(x_test)\n",
    "    r2_scr=r2_score(y_test,y_pred)\n",
    "    print(\"r2 score corresponding to random state: \",r_state,\" is: \",r2_scr)\n",
    "    if r2_scr>max_r_score:\n",
    "        max_r_score=r2_scr\n",
    "        final_r_state=r_state\n",
    "print()\n",
    "print()\n",
    "print('max r2 score corresponding to ',final_r_state,\" is \",max_r_score)\n",
    "#Max. r2 score with LinearRegression model is  0.9477136584598765, which is at random state 90."
   ]
  },
  {
   "cell_type": "code",
   "execution_count": 136,
   "metadata": {},
   "outputs": [
    {
     "name": "stdout",
     "output_type": "stream",
     "text": [
      "r2 score corresponding to random state:  42  is:  0.9657395356725448\n",
      "r2 score corresponding to random state:  43  is:  0.9567213377621312\n",
      "r2 score corresponding to random state:  44  is:  0.8952448129854944\n",
      "r2 score corresponding to random state:  45  is:  0.9394936618744971\n",
      "r2 score corresponding to random state:  46  is:  0.963966805662847\n",
      "r2 score corresponding to random state:  47  is:  0.8971988136388747\n",
      "r2 score corresponding to random state:  48  is:  0.9439858727565542\n",
      "r2 score corresponding to random state:  49  is:  0.9524350713252904\n",
      "r2 score corresponding to random state:  50  is:  0.9373481895336634\n",
      "r2 score corresponding to random state:  51  is:  0.9624603165529043\n",
      "r2 score corresponding to random state:  52  is:  0.9716957574437518\n",
      "r2 score corresponding to random state:  53  is:  0.9368767578624393\n",
      "r2 score corresponding to random state:  54  is:  0.9692363831833173\n",
      "r2 score corresponding to random state:  55  is:  0.9555377667951518\n",
      "r2 score corresponding to random state:  56  is:  0.9632112876049339\n",
      "r2 score corresponding to random state:  57  is:  0.9441099684713363\n",
      "r2 score corresponding to random state:  58  is:  0.9736357469624639\n",
      "r2 score corresponding to random state:  59  is:  0.9502062181492217\n",
      "r2 score corresponding to random state:  60  is:  0.9735705723726212\n",
      "r2 score corresponding to random state:  61  is:  0.9271254182399458\n",
      "r2 score corresponding to random state:  62  is:  0.9240316779955666\n",
      "r2 score corresponding to random state:  63  is:  0.9592055829378819\n",
      "r2 score corresponding to random state:  64  is:  0.9085136881937073\n",
      "r2 score corresponding to random state:  65  is:  0.965707551319024\n",
      "r2 score corresponding to random state:  66  is:  0.9556013075379132\n",
      "r2 score corresponding to random state:  67  is:  0.9016736290183744\n",
      "r2 score corresponding to random state:  68  is:  0.9391781802053146\n",
      "r2 score corresponding to random state:  69  is:  0.9537413694859501\n",
      "r2 score corresponding to random state:  70  is:  0.9636935008414429\n",
      "r2 score corresponding to random state:  71  is:  0.9367357248070776\n",
      "r2 score corresponding to random state:  72  is:  0.9670118415947628\n",
      "r2 score corresponding to random state:  73  is:  0.9533490434963887\n",
      "r2 score corresponding to random state:  74  is:  0.9754188320803875\n",
      "r2 score corresponding to random state:  75  is:  0.9384738340780395\n",
      "r2 score corresponding to random state:  76  is:  0.9693064240473594\n",
      "r2 score corresponding to random state:  77  is:  0.9513421785580527\n",
      "r2 score corresponding to random state:  78  is:  0.9333769657386799\n",
      "r2 score corresponding to random state:  79  is:  0.9734052369683828\n",
      "r2 score corresponding to random state:  80  is:  0.952032612346833\n",
      "r2 score corresponding to random state:  81  is:  0.9731742923383142\n",
      "r2 score corresponding to random state:  82  is:  0.957553353369387\n",
      "r2 score corresponding to random state:  83  is:  0.9687988700472306\n",
      "r2 score corresponding to random state:  84  is:  0.9651251026884412\n",
      "r2 score corresponding to random state:  85  is:  0.920936935953917\n",
      "r2 score corresponding to random state:  86  is:  0.9335523126180194\n",
      "r2 score corresponding to random state:  87  is:  0.9400084497250096\n",
      "r2 score corresponding to random state:  88  is:  0.9578395281807208\n",
      "r2 score corresponding to random state:  89  is:  0.9354004716569133\n",
      "r2 score corresponding to random state:  90  is:  0.975005473254032\n",
      "r2 score corresponding to random state:  91  is:  0.9558898994420728\n",
      "r2 score corresponding to random state:  92  is:  0.9589595037288821\n",
      "r2 score corresponding to random state:  93  is:  0.9349611638604346\n",
      "r2 score corresponding to random state:  94  is:  0.9497285120780015\n",
      "r2 score corresponding to random state:  95  is:  0.9338632560040361\n",
      "r2 score corresponding to random state:  96  is:  0.9357991559914194\n",
      "r2 score corresponding to random state:  97  is:  0.9492582742883332\n",
      "r2 score corresponding to random state:  98  is:  0.9490479748971676\n",
      "r2 score corresponding to random state:  99  is:  0.9450996422543256\n",
      "r2 score corresponding to random state:  100  is:  0.9242918545599507\n",
      "\n",
      "\n",
      "max r2 score corresponding to  74  is  0.9754188320803875\n"
     ]
    }
   ],
   "source": [
    "#Now we will check at what random state, DTR model will give highest r2 score.\n",
    "max_r_score=0\n",
    "for r_state in range(42,101):\n",
    "    x_train,x_test,y_train,y_test= train_test_split(x,y,random_state=r_state,test_size=0.20)\n",
    "    regr=DecisionTreeRegressor()\n",
    "    regr.fit(x_train,y_train)\n",
    "    y_pred=regr.predict(x_test)\n",
    "    r2_scr=r2_score(y_test,y_pred)\n",
    "    print(\"r2 score corresponding to random state: \",r_state,\" is: \",r2_scr)\n",
    "    if r2_scr>max_r_score:\n",
    "        max_r_score=r2_scr\n",
    "        final_r_state=r_state\n",
    "print()\n",
    "print()\n",
    "print('max r2 score corresponding to ',final_r_state,\" is \",max_r_score)\n",
    "#Max. r2 score with DTR model is  0.9754188320803875, which is at random state 74."
   ]
  },
  {
   "cell_type": "code",
   "execution_count": 137,
   "metadata": {},
   "outputs": [
    {
     "name": "stdout",
     "output_type": "stream",
     "text": [
      "r2 score corresponding to random state:  42  is:  0.9214432262927645\n",
      "r2 score corresponding to random state:  43  is:  0.9087532390066326\n",
      "r2 score corresponding to random state:  44  is:  0.9402082209757017\n",
      "r2 score corresponding to random state:  45  is:  0.949053440304406\n",
      "r2 score corresponding to random state:  46  is:  0.8726435043343891\n",
      "r2 score corresponding to random state:  47  is:  0.9355099684050123\n",
      "r2 score corresponding to random state:  48  is:  0.8949224033955179\n",
      "r2 score corresponding to random state:  49  is:  0.8893458511253087\n",
      "r2 score corresponding to random state:  50  is:  0.9492296756903015\n",
      "r2 score corresponding to random state:  51  is:  0.89967993195289\n",
      "r2 score corresponding to random state:  52  is:  0.9476921095120062\n",
      "r2 score corresponding to random state:  53  is:  0.8597315383835638\n",
      "r2 score corresponding to random state:  54  is:  0.8883784199696447\n",
      "r2 score corresponding to random state:  55  is:  0.8980847620366303\n",
      "r2 score corresponding to random state:  56  is:  0.8599229403284596\n",
      "r2 score corresponding to random state:  57  is:  0.8580146983083057\n",
      "r2 score corresponding to random state:  58  is:  0.8970472424745546\n",
      "r2 score corresponding to random state:  59  is:  0.9087828690951234\n",
      "r2 score corresponding to random state:  60  is:  0.8989173007301483\n",
      "r2 score corresponding to random state:  61  is:  0.8887816917666825\n",
      "r2 score corresponding to random state:  62  is:  0.9183489340851387\n",
      "r2 score corresponding to random state:  63  is:  0.9719904194839495\n",
      "r2 score corresponding to random state:  64  is:  0.9200281880619073\n",
      "r2 score corresponding to random state:  65  is:  0.8944228146308228\n",
      "r2 score corresponding to random state:  66  is:  0.8817284076934261\n",
      "r2 score corresponding to random state:  67  is:  0.9441449481651601\n",
      "r2 score corresponding to random state:  68  is:  0.8855983642567804\n",
      "r2 score corresponding to random state:  69  is:  0.9369392216288168\n",
      "r2 score corresponding to random state:  70  is:  0.901906429460837\n",
      "r2 score corresponding to random state:  71  is:  0.8986653876879764\n",
      "r2 score corresponding to random state:  72  is:  0.9248550283823868\n",
      "r2 score corresponding to random state:  73  is:  0.935111472447206\n",
      "r2 score corresponding to random state:  74  is:  0.8860009784621531\n",
      "r2 score corresponding to random state:  75  is:  0.9129556547614137\n",
      "r2 score corresponding to random state:  76  is:  0.9259342260997382\n",
      "r2 score corresponding to random state:  77  is:  0.9278157895485402\n",
      "r2 score corresponding to random state:  78  is:  0.8404590745614215\n",
      "r2 score corresponding to random state:  79  is:  0.9085030118478884\n",
      "r2 score corresponding to random state:  80  is:  0.8897136054107145\n",
      "r2 score corresponding to random state:  81  is:  0.9107317281034895\n",
      "r2 score corresponding to random state:  82  is:  0.8738783690974539\n",
      "r2 score corresponding to random state:  83  is:  0.8750048364593803\n",
      "r2 score corresponding to random state:  84  is:  0.8708879823610555\n",
      "r2 score corresponding to random state:  85  is:  0.8267939443179055\n",
      "r2 score corresponding to random state:  86  is:  0.9209251282447235\n",
      "r2 score corresponding to random state:  87  is:  0.8851921486232901\n",
      "r2 score corresponding to random state:  88  is:  0.9286694947858384\n",
      "r2 score corresponding to random state:  89  is:  0.9027805197908869\n",
      "r2 score corresponding to random state:  90  is:  0.9287518299139317\n",
      "r2 score corresponding to random state:  91  is:  0.9146604659945801\n",
      "r2 score corresponding to random state:  92  is:  0.9039324126929876\n",
      "r2 score corresponding to random state:  93  is:  0.8760247800048199\n",
      "r2 score corresponding to random state:  94  is:  0.8914181853836765\n",
      "r2 score corresponding to random state:  95  is:  0.8660764934757605\n",
      "r2 score corresponding to random state:  96  is:  0.9157151722194482\n",
      "r2 score corresponding to random state:  97  is:  0.9189209939160936\n",
      "r2 score corresponding to random state:  98  is:  0.8643681205409812\n",
      "r2 score corresponding to random state:  99  is:  0.9168954584964072\n",
      "r2 score corresponding to random state:  100  is:  0.8585686677877256\n",
      "\n",
      "\n",
      "max r2 score corresponding to  63  is  0.9719904194839495\n"
     ]
    }
   ],
   "source": [
    "#Now we will check at what random state, SVR model will give highest r2 score.\n",
    "max_r_score=0\n",
    "for r_state in range(42,101):\n",
    "    x_train,x_test,y_train,y_test= train_test_split(x,y,random_state=r_state,test_size=0.20)\n",
    "    regr=SVR()\n",
    "    regr.fit(x_train,y_train)\n",
    "    y_pred=regr.predict(x_test)\n",
    "    r2_scr=r2_score(y_test,y_pred)\n",
    "    print(\"r2 score corresponding to random state: \",r_state,\" is: \",r2_scr)\n",
    "    if r2_scr>max_r_score:\n",
    "        max_r_score=r2_scr\n",
    "        final_r_state=r_state\n",
    "print()\n",
    "print()\n",
    "print('max r2 score corresponding to ',final_r_state,\" is \",max_r_score)\n",
    "#Max. r2 score with SVR model is  0.9719904194839495, which is at random state 63."
   ]
  },
  {
   "cell_type": "code",
   "execution_count": 138,
   "metadata": {},
   "outputs": [
    {
     "name": "stdout",
     "output_type": "stream",
     "text": [
      "r2 score corresponding to random state:  42  is:  0.9390950886882399\n",
      "r2 score corresponding to random state:  43  is:  0.9357458203690323\n",
      "r2 score corresponding to random state:  44  is:  0.9377704923080539\n",
      "r2 score corresponding to random state:  45  is:  0.9157585531583841\n",
      "r2 score corresponding to random state:  46  is:  0.8879091404973124\n",
      "r2 score corresponding to random state:  47  is:  0.9414290945376803\n",
      "r2 score corresponding to random state:  48  is:  0.918840165460962\n",
      "r2 score corresponding to random state:  49  is:  0.9213414673936267\n",
      "r2 score corresponding to random state:  50  is:  0.9616506396969227\n",
      "r2 score corresponding to random state:  51  is:  0.9179500665043123\n",
      "r2 score corresponding to random state:  52  is:  0.9719646092463459\n",
      "r2 score corresponding to random state:  53  is:  0.8876724219139001\n",
      "r2 score corresponding to random state:  54  is:  0.9205834674331995\n",
      "r2 score corresponding to random state:  55  is:  0.9366445212419684\n",
      "r2 score corresponding to random state:  56  is:  0.8873839415620454\n",
      "r2 score corresponding to random state:  57  is:  0.894774235079078\n",
      "r2 score corresponding to random state:  58  is:  0.9572338639830422\n",
      "r2 score corresponding to random state:  59  is:  0.9423583438213848\n",
      "r2 score corresponding to random state:  60  is:  0.9205155126626409\n",
      "r2 score corresponding to random state:  61  is:  0.9169304713378057\n",
      "r2 score corresponding to random state:  62  is:  0.9427609157552957\n",
      "r2 score corresponding to random state:  63  is:  0.9677097901787897\n",
      "r2 score corresponding to random state:  64  is:  0.9384746203340627\n",
      "r2 score corresponding to random state:  65  is:  0.9457180501655696\n",
      "r2 score corresponding to random state:  66  is:  0.9175051451091829\n",
      "r2 score corresponding to random state:  67  is:  0.9463756574342229\n",
      "r2 score corresponding to random state:  68  is:  0.9294732217500137\n",
      "r2 score corresponding to random state:  69  is:  0.9521072836001677\n",
      "r2 score corresponding to random state:  70  is:  0.9465174290809073\n",
      "r2 score corresponding to random state:  71  is:  0.9424886112472183\n",
      "r2 score corresponding to random state:  72  is:  0.950037759769179\n",
      "r2 score corresponding to random state:  73  is:  0.9608495400650802\n",
      "r2 score corresponding to random state:  74  is:  0.9385714257666399\n",
      "r2 score corresponding to random state:  75  is:  0.9462181834823676\n",
      "r2 score corresponding to random state:  76  is:  0.9442869030062861\n",
      "r2 score corresponding to random state:  77  is:  0.9145843239036091\n",
      "r2 score corresponding to random state:  78  is:  0.8591327033239683\n",
      "r2 score corresponding to random state:  79  is:  0.9321188228590789\n",
      "r2 score corresponding to random state:  80  is:  0.953285697594602\n",
      "r2 score corresponding to random state:  81  is:  0.9496834293174357\n",
      "r2 score corresponding to random state:  82  is:  0.899549399550664\n",
      "r2 score corresponding to random state:  83  is:  0.910598984733147\n",
      "r2 score corresponding to random state:  84  is:  0.9183488668642961\n",
      "r2 score corresponding to random state:  85  is:  0.885214434123964\n",
      "r2 score corresponding to random state:  86  is:  0.9350544267440799\n",
      "r2 score corresponding to random state:  87  is:  0.9200672983414233\n",
      "r2 score corresponding to random state:  88  is:  0.943005829012762\n",
      "r2 score corresponding to random state:  89  is:  0.9482118380062305\n",
      "r2 score corresponding to random state:  90  is:  0.94138277616713\n",
      "r2 score corresponding to random state:  91  is:  0.9392190045940528\n",
      "r2 score corresponding to random state:  92  is:  0.9431399436416937\n",
      "r2 score corresponding to random state:  93  is:  0.9110008134353607\n",
      "r2 score corresponding to random state:  94  is:  0.9161226444599703\n",
      "r2 score corresponding to random state:  95  is:  0.9175697033179999\n",
      "r2 score corresponding to random state:  96  is:  0.9519143859569803\n",
      "r2 score corresponding to random state:  97  is:  0.9503943484782503\n",
      "r2 score corresponding to random state:  98  is:  0.8892413080888648\n",
      "r2 score corresponding to random state:  99  is:  0.9481631719381671\n",
      "r2 score corresponding to random state:  100  is:  0.9038461880638337\n",
      "\n",
      "\n",
      "max r2 score corresponding to  52  is  0.9719646092463459\n"
     ]
    }
   ],
   "source": [
    "#Now we will check at what random state, KNeighborsRegressor model will give highest r2 score.\n",
    "max_r_score=0\n",
    "for r_state in range(42,101):\n",
    "    x_train,x_test,y_train,y_test= train_test_split(x,y,random_state=r_state,test_size=0.20)\n",
    "    regr=KNeighborsRegressor()\n",
    "    regr.fit(x_train,y_train)\n",
    "    y_pred=regr.predict(x_test)\n",
    "    r2_scr=r2_score(y_test,y_pred)\n",
    "    print(\"r2 score corresponding to random state: \",r_state,\" is: \",r2_scr)\n",
    "    if r2_scr>max_r_score:\n",
    "        max_r_score=r2_scr\n",
    "        final_r_state=r_state\n",
    "print()\n",
    "print()\n",
    "print('max r2 score corresponding to ',final_r_state,\" is \",max_r_score)\n",
    "#Max. r2 score with KNeighborsRegressor model is  0.9719646092463459, which is at random state 52."
   ]
  },
  {
   "cell_type": "code",
   "execution_count": 139,
   "metadata": {},
   "outputs": [
    {
     "data": {
      "text/plain": [
       "0.9564483066973164"
      ]
     },
     "execution_count": 139,
     "metadata": {},
     "output_type": "execute_result"
    }
   ],
   "source": [
    "#Cross Validation of DTR\n",
    "from sklearn.model_selection import cross_val_score\n",
    "cross_val_score(DecisionTreeRegressor(),x,y,cv=5,scoring='r2').mean()"
   ]
  },
  {
   "cell_type": "code",
   "execution_count": 141,
   "metadata": {},
   "outputs": [
    {
     "name": "stdout",
     "output_type": "stream",
     "text": [
      "0.9731936997340966\n"
     ]
    }
   ],
   "source": [
    "#since maximum r2 score is coming around random state 66 and using DTR model, we will use that to create our model\n",
    "x_train,x_test,y_train,y_test=train_test_split(x,y,random_state=74,test_size=0.20)\n",
    "dtr=DecisionTreeRegressor()            \n",
    "dtr.fit(x_train,y_train)\n",
    "dtr.score(x_train,y_train)\n",
    "y_pred=dtr.predict(x_test)\n",
    "print(r2_score(y_test,y_pred))"
   ]
  },
  {
   "cell_type": "code",
   "execution_count": 198,
   "metadata": {},
   "outputs": [
    {
     "name": "stdout",
     "output_type": "stream",
     "text": [
      "DecisionTreeRegressor(ccp_alpha=0.0, criterion='friedman_mse', max_depth=None,\n",
      "                      max_features=None, max_leaf_nodes=None,\n",
      "                      min_impurity_decrease=0.0, min_impurity_split=None,\n",
      "                      min_samples_leaf=1, min_samples_split=2,\n",
      "                      min_weight_fraction_leaf=0.0, presort='deprecated',\n",
      "                      random_state=None, splitter='best')\n"
     ]
    },
    {
     "data": {
      "text/plain": [
       "0.9751897743388576"
      ]
     },
     "execution_count": 198,
     "metadata": {},
     "output_type": "execute_result"
    }
   ],
   "source": [
    "#Gridsearchcv analysis to find out best parameter among selected ones in DTR model\n",
    "dtr_cv = GridSearchCV(DecisionTreeRegressor(random_state=None),\n",
    "              param_grid={'criterion':['mse', 'friedman_mse'],'min_samples_split':[2,4]},\n",
    "              scoring='r2', cv=5, refit=True)\n",
    "\n",
    "dtr_cv.fit(x_train, y_train)\n",
    "dtr_cv.best_params_\n",
    "\n",
    "result = dtr_cv.cv_results_\n",
    "print(dtr_cv.best_estimator_)\n",
    "r2_score(y_test, dtr_cv.best_estimator_.predict(x_test))\n",
    "#At random_state=None,with friedman_mse criterion and min_samples_split of 2, we have DTR model with r2 score of 0.975189774338857"
   ]
  },
  {
   "cell_type": "code",
   "execution_count": 206,
   "metadata": {},
   "outputs": [
    {
     "name": "stdout",
     "output_type": "stream",
     "text": [
      "0.9757002458771242\n"
     ]
    }
   ],
   "source": [
    "#Implementing DTR model with best parameters.\n",
    "x_train,x_test,y_train,y_test=train_test_split(x,y,random_state=74,test_size=0.20)\n",
    "dtr=DecisionTreeRegressor(ccp_alpha=0.0, criterion='friedman_mse', max_depth=None,\n",
    "                      max_features=None, max_leaf_nodes=None,\n",
    "                      min_impurity_decrease=0.0, min_impurity_split=None,\n",
    "                      min_samples_leaf=1, min_samples_split=2,\n",
    "                      min_weight_fraction_leaf=0.0, presort='deprecated',\n",
    "                      random_state=None, splitter='best')            \n",
    "dtr.fit(x_train,y_train)\n",
    "dtr.score(x_train,y_train)\n",
    "y_pred=dtr.predict(x_test)\n",
    "print(r2_score(y_test,y_pred))"
   ]
  },
  {
   "cell_type": "code",
   "execution_count": 211,
   "metadata": {},
   "outputs": [],
   "source": [
    "df_advertising_pred=pd.DataFrame(y_pred)                #To save the prediction in csv\n",
    "df_advertising_pred.to_csv(\"Project6_Prediction.csv\")"
   ]
  }
 ],
 "metadata": {
  "kernelspec": {
   "display_name": "Python 3",
   "language": "python",
   "name": "python3"
  },
  "language_info": {
   "codemirror_mode": {
    "name": "ipython",
    "version": 3
   },
   "file_extension": ".py",
   "mimetype": "text/x-python",
   "name": "python",
   "nbconvert_exporter": "python",
   "pygments_lexer": "ipython3",
   "version": "3.7.6"
  }
 },
 "nbformat": 4,
 "nbformat_minor": 4
}
