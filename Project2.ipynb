{
 "cells": [
  {
   "cell_type": "code",
   "execution_count": 1,
   "metadata": {},
   "outputs": [],
   "source": [
    "import numpy as np\n",
    "import pandas as pd\n",
    "import matplotlib.pyplot as plt\n",
    "import seaborn as sns\n",
    "import sklearn\n",
    "from sklearn.model_selection import train_test_split\n",
    "from sklearn.model_selection import cross_val_score\n",
    "from sklearn.metrics import classification_report\n",
    "from sklearn.metrics import confusion_matrix\n",
    "from sklearn.metrics import accuracy_score\n",
    "from sklearn.metrics import mean_absolute_error\n",
    "from sklearn.metrics import mean_squared_error\n",
    "from sklearn.metrics import r2_score\n",
    "from sklearn import linear_model\n",
    "from sklearn.linear_model import LinearRegression\n",
    "from sklearn.tree import DecisionTreeClassifier\n",
    "from sklearn.neighbors import KNeighborsClassifier\n",
    "from sklearn.naive_bayes import GaussianNB\n",
    "from sklearn.svm import SVC\n",
    "from sklearn.preprocessing import StandardScaler\n",
    "from scipy.stats import zscore"
   ]
  },
  {
   "cell_type": "code",
   "execution_count": 2,
   "metadata": {},
   "outputs": [
    {
     "data": {
      "text/html": [
       "<div>\n",
       "<style scoped>\n",
       "    .dataframe tbody tr th:only-of-type {\n",
       "        vertical-align: middle;\n",
       "    }\n",
       "\n",
       "    .dataframe tbody tr th {\n",
       "        vertical-align: top;\n",
       "    }\n",
       "\n",
       "    .dataframe thead th {\n",
       "        text-align: right;\n",
       "    }\n",
       "</style>\n",
       "<table border=\"1\" class=\"dataframe\">\n",
       "  <thead>\n",
       "    <tr style=\"text-align: right;\">\n",
       "      <th></th>\n",
       "      <th>age</th>\n",
       "      <th>sex</th>\n",
       "      <th>bmi</th>\n",
       "      <th>children</th>\n",
       "      <th>smoker</th>\n",
       "      <th>region</th>\n",
       "      <th>charges</th>\n",
       "      <th>insuranceclaim</th>\n",
       "    </tr>\n",
       "  </thead>\n",
       "  <tbody>\n",
       "    <tr>\n",
       "      <th>0</th>\n",
       "      <td>19</td>\n",
       "      <td>0</td>\n",
       "      <td>27.900</td>\n",
       "      <td>0</td>\n",
       "      <td>1</td>\n",
       "      <td>3</td>\n",
       "      <td>16884.92400</td>\n",
       "      <td>1</td>\n",
       "    </tr>\n",
       "    <tr>\n",
       "      <th>1</th>\n",
       "      <td>18</td>\n",
       "      <td>1</td>\n",
       "      <td>33.770</td>\n",
       "      <td>1</td>\n",
       "      <td>0</td>\n",
       "      <td>2</td>\n",
       "      <td>1725.55230</td>\n",
       "      <td>1</td>\n",
       "    </tr>\n",
       "    <tr>\n",
       "      <th>2</th>\n",
       "      <td>28</td>\n",
       "      <td>1</td>\n",
       "      <td>33.000</td>\n",
       "      <td>3</td>\n",
       "      <td>0</td>\n",
       "      <td>2</td>\n",
       "      <td>4449.46200</td>\n",
       "      <td>0</td>\n",
       "    </tr>\n",
       "    <tr>\n",
       "      <th>3</th>\n",
       "      <td>33</td>\n",
       "      <td>1</td>\n",
       "      <td>22.705</td>\n",
       "      <td>0</td>\n",
       "      <td>0</td>\n",
       "      <td>1</td>\n",
       "      <td>21984.47061</td>\n",
       "      <td>0</td>\n",
       "    </tr>\n",
       "    <tr>\n",
       "      <th>4</th>\n",
       "      <td>32</td>\n",
       "      <td>1</td>\n",
       "      <td>28.880</td>\n",
       "      <td>0</td>\n",
       "      <td>0</td>\n",
       "      <td>1</td>\n",
       "      <td>3866.85520</td>\n",
       "      <td>1</td>\n",
       "    </tr>\n",
       "  </tbody>\n",
       "</table>\n",
       "</div>"
      ],
      "text/plain": [
       "   age  sex     bmi  children  smoker  region      charges  insuranceclaim\n",
       "0   19    0  27.900         0       1       3  16884.92400               1\n",
       "1   18    1  33.770         1       0       2   1725.55230               1\n",
       "2   28    1  33.000         3       0       2   4449.46200               0\n",
       "3   33    1  22.705         0       0       1  21984.47061               0\n",
       "4   32    1  28.880         0       0       1   3866.85520               1"
      ]
     },
     "execution_count": 2,
     "metadata": {},
     "output_type": "execute_result"
    }
   ],
   "source": [
    "df_insurance=pd.read_csv('SBI_Life_insurance.csv')  \n",
    "df_insurance.head()"
   ]
  },
  {
   "cell_type": "code",
   "execution_count": 3,
   "metadata": {},
   "outputs": [
    {
     "data": {
      "text/plain": [
       "(1338, 8)"
      ]
     },
     "execution_count": 3,
     "metadata": {},
     "output_type": "execute_result"
    }
   ],
   "source": [
    "df_insurance.shape"
   ]
  },
  {
   "cell_type": "code",
   "execution_count": 4,
   "metadata": {},
   "outputs": [
    {
     "data": {
      "text/plain": [
       "age                 int64\n",
       "sex                 int64\n",
       "bmi               float64\n",
       "children            int64\n",
       "smoker              int64\n",
       "region              int64\n",
       "charges           float64\n",
       "insuranceclaim      int64\n",
       "dtype: object"
      ]
     },
     "execution_count": 4,
     "metadata": {},
     "output_type": "execute_result"
    }
   ],
   "source": [
    "df_insurance.dtypes"
   ]
  },
  {
   "cell_type": "code",
   "execution_count": 5,
   "metadata": {},
   "outputs": [
    {
     "data": {
      "text/plain": [
       "Index(['age', 'sex', 'bmi', 'children', 'smoker', 'region', 'charges',\n",
       "       'insuranceclaim'],\n",
       "      dtype='object')"
      ]
     },
     "execution_count": 5,
     "metadata": {},
     "output_type": "execute_result"
    }
   ],
   "source": [
    "df_insurance.columns"
   ]
  },
  {
   "cell_type": "code",
   "execution_count": 6,
   "metadata": {},
   "outputs": [
    {
     "data": {
      "text/plain": [
       "age               0\n",
       "sex               0\n",
       "bmi               0\n",
       "children          0\n",
       "smoker            0\n",
       "region            0\n",
       "charges           0\n",
       "insuranceclaim    0\n",
       "dtype: int64"
      ]
     },
     "execution_count": 6,
     "metadata": {},
     "output_type": "execute_result"
    }
   ],
   "source": [
    "df_insurance.isnull().sum()"
   ]
  },
  {
   "cell_type": "code",
   "execution_count": 7,
   "metadata": {},
   "outputs": [
    {
     "data": {
      "text/html": [
       "<div>\n",
       "<style scoped>\n",
       "    .dataframe tbody tr th:only-of-type {\n",
       "        vertical-align: middle;\n",
       "    }\n",
       "\n",
       "    .dataframe tbody tr th {\n",
       "        vertical-align: top;\n",
       "    }\n",
       "\n",
       "    .dataframe thead th {\n",
       "        text-align: right;\n",
       "    }\n",
       "</style>\n",
       "<table border=\"1\" class=\"dataframe\">\n",
       "  <thead>\n",
       "    <tr style=\"text-align: right;\">\n",
       "      <th></th>\n",
       "      <th>age</th>\n",
       "      <th>sex</th>\n",
       "      <th>bmi</th>\n",
       "      <th>children</th>\n",
       "      <th>smoker</th>\n",
       "      <th>region</th>\n",
       "      <th>charges</th>\n",
       "      <th>insuranceclaim</th>\n",
       "    </tr>\n",
       "  </thead>\n",
       "  <tbody>\n",
       "    <tr>\n",
       "      <th>count</th>\n",
       "      <td>1338.000000</td>\n",
       "      <td>1338.000000</td>\n",
       "      <td>1338.000000</td>\n",
       "      <td>1338.000000</td>\n",
       "      <td>1338.000000</td>\n",
       "      <td>1338.000000</td>\n",
       "      <td>1338.000000</td>\n",
       "      <td>1338.000000</td>\n",
       "    </tr>\n",
       "    <tr>\n",
       "      <th>mean</th>\n",
       "      <td>39.207025</td>\n",
       "      <td>0.505232</td>\n",
       "      <td>30.663397</td>\n",
       "      <td>1.094918</td>\n",
       "      <td>0.204783</td>\n",
       "      <td>1.515695</td>\n",
       "      <td>13270.422265</td>\n",
       "      <td>0.585202</td>\n",
       "    </tr>\n",
       "    <tr>\n",
       "      <th>std</th>\n",
       "      <td>14.049960</td>\n",
       "      <td>0.500160</td>\n",
       "      <td>6.098187</td>\n",
       "      <td>1.205493</td>\n",
       "      <td>0.403694</td>\n",
       "      <td>1.104885</td>\n",
       "      <td>12110.011237</td>\n",
       "      <td>0.492871</td>\n",
       "    </tr>\n",
       "    <tr>\n",
       "      <th>min</th>\n",
       "      <td>18.000000</td>\n",
       "      <td>0.000000</td>\n",
       "      <td>15.960000</td>\n",
       "      <td>0.000000</td>\n",
       "      <td>0.000000</td>\n",
       "      <td>0.000000</td>\n",
       "      <td>1121.873900</td>\n",
       "      <td>0.000000</td>\n",
       "    </tr>\n",
       "    <tr>\n",
       "      <th>25%</th>\n",
       "      <td>27.000000</td>\n",
       "      <td>0.000000</td>\n",
       "      <td>26.296250</td>\n",
       "      <td>0.000000</td>\n",
       "      <td>0.000000</td>\n",
       "      <td>1.000000</td>\n",
       "      <td>4740.287150</td>\n",
       "      <td>0.000000</td>\n",
       "    </tr>\n",
       "    <tr>\n",
       "      <th>50%</th>\n",
       "      <td>39.000000</td>\n",
       "      <td>1.000000</td>\n",
       "      <td>30.400000</td>\n",
       "      <td>1.000000</td>\n",
       "      <td>0.000000</td>\n",
       "      <td>2.000000</td>\n",
       "      <td>9382.033000</td>\n",
       "      <td>1.000000</td>\n",
       "    </tr>\n",
       "    <tr>\n",
       "      <th>75%</th>\n",
       "      <td>51.000000</td>\n",
       "      <td>1.000000</td>\n",
       "      <td>34.693750</td>\n",
       "      <td>2.000000</td>\n",
       "      <td>0.000000</td>\n",
       "      <td>2.000000</td>\n",
       "      <td>16639.912515</td>\n",
       "      <td>1.000000</td>\n",
       "    </tr>\n",
       "    <tr>\n",
       "      <th>max</th>\n",
       "      <td>64.000000</td>\n",
       "      <td>1.000000</td>\n",
       "      <td>53.130000</td>\n",
       "      <td>5.000000</td>\n",
       "      <td>1.000000</td>\n",
       "      <td>3.000000</td>\n",
       "      <td>63770.428010</td>\n",
       "      <td>1.000000</td>\n",
       "    </tr>\n",
       "  </tbody>\n",
       "</table>\n",
       "</div>"
      ],
      "text/plain": [
       "               age          sex          bmi     children       smoker  \\\n",
       "count  1338.000000  1338.000000  1338.000000  1338.000000  1338.000000   \n",
       "mean     39.207025     0.505232    30.663397     1.094918     0.204783   \n",
       "std      14.049960     0.500160     6.098187     1.205493     0.403694   \n",
       "min      18.000000     0.000000    15.960000     0.000000     0.000000   \n",
       "25%      27.000000     0.000000    26.296250     0.000000     0.000000   \n",
       "50%      39.000000     1.000000    30.400000     1.000000     0.000000   \n",
       "75%      51.000000     1.000000    34.693750     2.000000     0.000000   \n",
       "max      64.000000     1.000000    53.130000     5.000000     1.000000   \n",
       "\n",
       "            region       charges  insuranceclaim  \n",
       "count  1338.000000   1338.000000     1338.000000  \n",
       "mean      1.515695  13270.422265        0.585202  \n",
       "std       1.104885  12110.011237        0.492871  \n",
       "min       0.000000   1121.873900        0.000000  \n",
       "25%       1.000000   4740.287150        0.000000  \n",
       "50%       2.000000   9382.033000        1.000000  \n",
       "75%       2.000000  16639.912515        1.000000  \n",
       "max       3.000000  63770.428010        1.000000  "
      ]
     },
     "execution_count": 7,
     "metadata": {},
     "output_type": "execute_result"
    }
   ],
   "source": [
    "df_insurance.describe()"
   ]
  },
  {
   "cell_type": "code",
   "execution_count": 8,
   "metadata": {},
   "outputs": [
    {
     "data": {
      "text/plain": [
       "array([1, 0], dtype=int64)"
      ]
     },
     "execution_count": 8,
     "metadata": {},
     "output_type": "execute_result"
    }
   ],
   "source": [
    "df_insurance.insuranceclaim.unique()"
   ]
  },
  {
   "cell_type": "code",
   "execution_count": 9,
   "metadata": {},
   "outputs": [
    {
     "data": {
      "text/plain": [
       "1    783\n",
       "0    555\n",
       "Name: insuranceclaim, dtype: int64"
      ]
     },
     "execution_count": 9,
     "metadata": {},
     "output_type": "execute_result"
    }
   ],
   "source": [
    "df_insurance.insuranceclaim.value_counts()"
   ]
  },
  {
   "cell_type": "code",
   "execution_count": 11,
   "metadata": {},
   "outputs": [
    {
     "data": {
      "image/png": "[encoded data removed]",
      "text/plain": [
       "<Figure size 432x288 with 1 Axes>"
      ]
     },
     "metadata": {
      "needs_background": "light"
     },
     "output_type": "display_data"
    }
   ],
   "source": [
    "sns.countplot(df_insurance['insuranceclaim'])                #Count of both claim or not\n",
    "plt.show()"
   ]
  },
  {
   "cell_type": "code",
   "execution_count": 12,
   "metadata": {},
   "outputs": [
    {
     "data": {
      "text/html": [
       "<div>\n",
       "<style scoped>\n",
       "    .dataframe tbody tr th:only-of-type {\n",
       "        vertical-align: middle;\n",
       "    }\n",
       "\n",
       "    .dataframe tbody tr th {\n",
       "        vertical-align: top;\n",
       "    }\n",
       "\n",
       "    .dataframe thead th {\n",
       "        text-align: right;\n",
       "    }\n",
       "</style>\n",
       "<table border=\"1\" class=\"dataframe\">\n",
       "  <thead>\n",
       "    <tr style=\"text-align: right;\">\n",
       "      <th></th>\n",
       "      <th>age</th>\n",
       "      <th>sex</th>\n",
       "      <th>bmi</th>\n",
       "      <th>children</th>\n",
       "      <th>smoker</th>\n",
       "      <th>region</th>\n",
       "      <th>charges</th>\n",
       "      <th>insuranceclaim</th>\n",
       "    </tr>\n",
       "  </thead>\n",
       "  <tbody>\n",
       "    <tr>\n",
       "      <th>age</th>\n",
       "      <td>1.000000</td>\n",
       "      <td>-0.020856</td>\n",
       "      <td>0.109272</td>\n",
       "      <td>0.042469</td>\n",
       "      <td>-0.025019</td>\n",
       "      <td>0.002127</td>\n",
       "      <td>0.299008</td>\n",
       "      <td>0.113723</td>\n",
       "    </tr>\n",
       "    <tr>\n",
       "      <th>sex</th>\n",
       "      <td>-0.020856</td>\n",
       "      <td>1.000000</td>\n",
       "      <td>0.046371</td>\n",
       "      <td>0.017163</td>\n",
       "      <td>0.076185</td>\n",
       "      <td>0.004588</td>\n",
       "      <td>0.057292</td>\n",
       "      <td>0.031565</td>\n",
       "    </tr>\n",
       "    <tr>\n",
       "      <th>bmi</th>\n",
       "      <td>0.109272</td>\n",
       "      <td>0.046371</td>\n",
       "      <td>1.000000</td>\n",
       "      <td>0.012759</td>\n",
       "      <td>0.003750</td>\n",
       "      <td>0.157566</td>\n",
       "      <td>0.198341</td>\n",
       "      <td>0.384198</td>\n",
       "    </tr>\n",
       "    <tr>\n",
       "      <th>children</th>\n",
       "      <td>0.042469</td>\n",
       "      <td>0.017163</td>\n",
       "      <td>0.012759</td>\n",
       "      <td>1.000000</td>\n",
       "      <td>0.007673</td>\n",
       "      <td>0.016569</td>\n",
       "      <td>0.067998</td>\n",
       "      <td>-0.409526</td>\n",
       "    </tr>\n",
       "    <tr>\n",
       "      <th>smoker</th>\n",
       "      <td>-0.025019</td>\n",
       "      <td>0.076185</td>\n",
       "      <td>0.003750</td>\n",
       "      <td>0.007673</td>\n",
       "      <td>1.000000</td>\n",
       "      <td>-0.002181</td>\n",
       "      <td>0.787251</td>\n",
       "      <td>0.333261</td>\n",
       "    </tr>\n",
       "    <tr>\n",
       "      <th>region</th>\n",
       "      <td>0.002127</td>\n",
       "      <td>0.004588</td>\n",
       "      <td>0.157566</td>\n",
       "      <td>0.016569</td>\n",
       "      <td>-0.002181</td>\n",
       "      <td>1.000000</td>\n",
       "      <td>-0.006208</td>\n",
       "      <td>0.020891</td>\n",
       "    </tr>\n",
       "    <tr>\n",
       "      <th>charges</th>\n",
       "      <td>0.299008</td>\n",
       "      <td>0.057292</td>\n",
       "      <td>0.198341</td>\n",
       "      <td>0.067998</td>\n",
       "      <td>0.787251</td>\n",
       "      <td>-0.006208</td>\n",
       "      <td>1.000000</td>\n",
       "      <td>0.309418</td>\n",
       "    </tr>\n",
       "    <tr>\n",
       "      <th>insuranceclaim</th>\n",
       "      <td>0.113723</td>\n",
       "      <td>0.031565</td>\n",
       "      <td>0.384198</td>\n",
       "      <td>-0.409526</td>\n",
       "      <td>0.333261</td>\n",
       "      <td>0.020891</td>\n",
       "      <td>0.309418</td>\n",
       "      <td>1.000000</td>\n",
       "    </tr>\n",
       "  </tbody>\n",
       "</table>\n",
       "</div>"
      ],
      "text/plain": [
       "                     age       sex       bmi  children    smoker    region  \\\n",
       "age             1.000000 -0.020856  0.109272  0.042469 -0.025019  0.002127   \n",
       "sex            -0.020856  1.000000  0.046371  0.017163  0.076185  0.004588   \n",
       "bmi             0.109272  0.046371  1.000000  0.012759  0.003750  0.157566   \n",
       "children        0.042469  0.017163  0.012759  1.000000  0.007673  0.016569   \n",
       "smoker         -0.025019  0.076185  0.003750  0.007673  1.000000 -0.002181   \n",
       "region          0.002127  0.004588  0.157566  0.016569 -0.002181  1.000000   \n",
       "charges         0.299008  0.057292  0.198341  0.067998  0.787251 -0.006208   \n",
       "insuranceclaim  0.113723  0.031565  0.384198 -0.409526  0.333261  0.020891   \n",
       "\n",
       "                 charges  insuranceclaim  \n",
       "age             0.299008        0.113723  \n",
       "sex             0.057292        0.031565  \n",
       "bmi             0.198341        0.384198  \n",
       "children        0.067998       -0.409526  \n",
       "smoker          0.787251        0.333261  \n",
       "region         -0.006208        0.020891  \n",
       "charges         1.000000        0.309418  \n",
       "insuranceclaim  0.309418        1.000000  "
      ]
     },
     "execution_count": 12,
     "metadata": {},
     "output_type": "execute_result"
    }
   ],
   "source": [
    "df_insurance_cor=df_insurance.corr()                          #To check the correlation\n",
    "df_insurance_cor"
   ]
  },
  {
   "cell_type": "code",
   "execution_count": 13,
   "metadata": {},
   "outputs": [
    {
     "data": {
      "text/plain": [
       "<matplotlib.axes._subplots.AxesSubplot at 0x3b6e75bac8>"
      ]
     },
     "execution_count": 13,
     "metadata": {},
     "output_type": "execute_result"
    },
    {
     "data": {
      "image/png": "[encoded data removed]",
      "text/plain": [
       "<Figure size 648x504 with 2 Axes>"
      ]
     },
     "metadata": {
      "needs_background": "light"
     },
     "output_type": "display_data"
    }
   ],
   "source": [
    "plt.figure(figsize=(9,7))\n",
    "sns.heatmap(df_insurance_cor,cmap='Reds',annot=True)"
   ]
  },
  {
   "cell_type": "code",
   "execution_count": 14,
   "metadata": {},
   "outputs": [
    {
     "data": {
      "image/png": "[encoded data removed]",
      "text/plain": [
       "<Figure size 864x3600 with 7 Axes>"
      ]
     },
     "metadata": {
      "needs_background": "light"
     },
     "output_type": "display_data"
    }
   ],
   "source": [
    "col_list=df_insurance.columns.values\n",
    "plt.figure(figsize=(12,50))                                    #Box plot to find out outliers\n",
    "for i in range(1, len(col_list)):\n",
    "    plt.subplot(12,10,i+1)\n",
    "    sns.boxplot(df_insurance[col_list[i]],color='blue',orient='v')\n",
    "    plt.tight_layout()"
   ]
  },
  {
   "cell_type": "code",
   "execution_count": 22,
   "metadata": {},
   "outputs": [
    {
     "name": "stdout",
     "output_type": "stream",
     "text": [
      "(1338, 8)\n",
      "(1309, 8)\n"
     ]
    }
   ],
   "source": [
    "z_score=abs(zscore(df_insurance))\n",
    "print(df_insurance.shape)\n",
    "df_insurance_final=df_insurance.loc[(z_score<3).all(axis=1)]                  \n",
    "print(df_insurance_final.shape)\n",
    "#to quantify the outliers"
   ]
  },
  {
   "cell_type": "code",
   "execution_count": 23,
   "metadata": {},
   "outputs": [],
   "source": [
    "df_insurance=df_insurance[(z_score<3).all(axis=1)]  \n",
    "#to remove the outliers"
   ]
  },
  {
   "cell_type": "code",
   "execution_count": 24,
   "metadata": {},
   "outputs": [
    {
     "data": {
      "text/plain": [
       "(1309, 8)"
      ]
     },
     "execution_count": 24,
     "metadata": {},
     "output_type": "execute_result"
    }
   ],
   "source": [
    "df_insurance.shape"
   ]
  },
  {
   "cell_type": "code",
   "execution_count": 26,
   "metadata": {},
   "outputs": [],
   "source": [
    "x = df_insurance.iloc[:,:7]\n",
    "y = df_insurance['insuranceclaim']\n",
    "#Spliting the data\n"
   ]
  },
  {
   "cell_type": "code",
   "execution_count": 27,
   "metadata": {},
   "outputs": [
    {
     "data": {
      "text/plain": [
       "(1309, 7)"
      ]
     },
     "execution_count": 27,
     "metadata": {},
     "output_type": "execute_result"
    }
   ],
   "source": [
    "x.shape"
   ]
  },
  {
   "cell_type": "code",
   "execution_count": 28,
   "metadata": {},
   "outputs": [
    {
     "data": {
      "text/plain": [
       "(1309,)"
      ]
     },
     "execution_count": 28,
     "metadata": {},
     "output_type": "execute_result"
    }
   ],
   "source": [
    "y.shape"
   ]
  },
  {
   "cell_type": "code",
   "execution_count": 29,
   "metadata": {},
   "outputs": [],
   "source": [
    "sc = StandardScaler()\n",
    "x = sc.fit_transform(x)\n",
    "#scaling down using standardscalar"
   ]
  },
  {
   "cell_type": "code",
   "execution_count": 31,
   "metadata": {},
   "outputs": [
    {
     "name": "stdout",
     "output_type": "stream",
     "text": [
      "r2 score corresponding to random state:  42  is:  0.4401858979642661\n",
      "r2 score corresponding to random state:  43  is:  0.4346514027955397\n",
      "r2 score corresponding to random state:  44  is:  0.45225841180526083\n",
      "r2 score corresponding to random state:  45  is:  0.4621912270780155\n",
      "r2 score corresponding to random state:  46  is:  0.4551400535588074\n",
      "r2 score corresponding to random state:  47  is:  0.4359158942091279\n",
      "r2 score corresponding to random state:  48  is:  0.4385078881476936\n",
      "r2 score corresponding to random state:  49  is:  0.47789835700337957\n",
      "r2 score corresponding to random state:  50  is:  0.47204969051091816\n",
      "r2 score corresponding to random state:  51  is:  0.4557105320970022\n",
      "r2 score corresponding to random state:  52  is:  0.37355546052125377\n",
      "r2 score corresponding to random state:  53  is:  0.47847695130774426\n",
      "r2 score corresponding to random state:  54  is:  0.48133146409042815\n",
      "r2 score corresponding to random state:  55  is:  0.5204092051870749\n",
      "r2 score corresponding to random state:  56  is:  0.4175254621615285\n",
      "r2 score corresponding to random state:  57  is:  0.43026538783449564\n",
      "r2 score corresponding to random state:  58  is:  0.4628509492384528\n",
      "r2 score corresponding to random state:  59  is:  0.3981675595561295\n",
      "r2 score corresponding to random state:  60  is:  0.4167888066321933\n",
      "r2 score corresponding to random state:  61  is:  0.40530122968900895\n",
      "r2 score corresponding to random state:  62  is:  0.42471020513000257\n",
      "r2 score corresponding to random state:  63  is:  0.4563934288405572\n",
      "r2 score corresponding to random state:  64  is:  0.438734777387609\n",
      "r2 score corresponding to random state:  65  is:  0.46937435724414267\n",
      "r2 score corresponding to random state:  66  is:  0.4472840421728088\n",
      "r2 score corresponding to random state:  67  is:  0.4682689990363116\n",
      "r2 score corresponding to random state:  68  is:  0.4126476205254712\n",
      "r2 score corresponding to random state:  69  is:  0.41924318244874215\n",
      "r2 score corresponding to random state:  70  is:  0.4586224726979278\n",
      "r2 score corresponding to random state:  71  is:  0.47392314279048997\n",
      "r2 score corresponding to random state:  72  is:  0.4945081617995025\n",
      "r2 score corresponding to random state:  73  is:  0.4586447350985108\n",
      "r2 score corresponding to random state:  74  is:  0.4252343880898596\n",
      "r2 score corresponding to random state:  75  is:  0.5069564575381011\n",
      "r2 score corresponding to random state:  76  is:  0.41788123825396983\n",
      "r2 score corresponding to random state:  77  is:  0.4817050055834644\n",
      "r2 score corresponding to random state:  78  is:  0.4069075585037575\n",
      "r2 score corresponding to random state:  79  is:  0.5042061853218094\n",
      "r2 score corresponding to random state:  80  is:  0.42451537117581273\n",
      "r2 score corresponding to random state:  81  is:  0.49042371456657874\n",
      "r2 score corresponding to random state:  82  is:  0.39806597769934715\n",
      "r2 score corresponding to random state:  83  is:  0.44527816681810695\n",
      "r2 score corresponding to random state:  84  is:  0.5088027855108431\n",
      "r2 score corresponding to random state:  85  is:  0.5115190595732584\n",
      "r2 score corresponding to random state:  86  is:  0.40258763546580145\n",
      "r2 score corresponding to random state:  87  is:  0.44002453074661796\n",
      "r2 score corresponding to random state:  88  is:  0.4052772142870854\n",
      "r2 score corresponding to random state:  89  is:  0.44030682594127424\n",
      "r2 score corresponding to random state:  90  is:  0.4545411067683811\n",
      "r2 score corresponding to random state:  91  is:  0.41434649393947487\n",
      "r2 score corresponding to random state:  92  is:  0.4503338623656391\n",
      "r2 score corresponding to random state:  93  is:  0.40697681232846805\n",
      "r2 score corresponding to random state:  94  is:  0.5022522710442655\n",
      "r2 score corresponding to random state:  95  is:  0.4630568646274512\n",
      "r2 score corresponding to random state:  96  is:  0.459998181062906\n",
      "r2 score corresponding to random state:  97  is:  0.49574641374219575\n",
      "r2 score corresponding to random state:  98  is:  0.4204606239083968\n",
      "r2 score corresponding to random state:  99  is:  0.46283524708104895\n",
      "r2 score corresponding to random state:  100  is:  0.41703402224801167\n",
      "\n",
      "\n",
      "max r2 score corresponding to  55  is  0.5204092051870749\n"
     ]
    }
   ],
   "source": [
    "max_r_score=0\n",
    "for r_state in range(42,101):\n",
    "    x_train,x_test,y_train,y_test= train_test_split(x,y,random_state=r_state,test_size=0.20)\n",
    "    regr=linear_model.LinearRegression()\n",
    "    regr.fit(x_train,y_train)\n",
    "    y_pred=regr.predict(x_test)\n",
    "    r2_scr=r2_score(y_test,y_pred)\n",
    "    print(\"r2 score corresponding to random state: \",r_state,\" is: \",r2_scr)\n",
    "    if r2_scr>max_r_score:\n",
    "        max_r_score=r2_scr\n",
    "        final_r_state=r_state\n",
    "print()\n",
    "print()\n",
    "print('max r2 score corresponding to ',final_r_state,\" is \",max_r_score)\n",
    "\n",
    "#The below output shows that we are not getting acceptable level of r2 score in most of the cases. It is a Classification problem"
   ]
  },
  {
   "cell_type": "code",
   "execution_count": 32,
   "metadata": {},
   "outputs": [
    {
     "name": "stdout",
     "output_type": "stream",
     "text": [
      "0.9847328244274809\n",
      "0.8816793893129771\n",
      "0.8625954198473282\n",
      "0.6603053435114504\n"
     ]
    }
   ],
   "source": [
    "model=[DecisionTreeClassifier(),SVC(),KNeighborsClassifier(),GaussianNB()]\n",
    "\n",
    "for m in model:\n",
    "    m.fit(x_train,y_train)\n",
    "    predm=m.predict(x_test)\n",
    "    print(accuracy_score(y_test,predm))\n",
    "#Testing the models along with their accuracy score"
   ]
  },
  {
   "cell_type": "code",
   "execution_count": 33,
   "metadata": {},
   "outputs": [
    {
     "name": "stdout",
     "output_type": "stream",
     "text": [
      "[[104   2]\n",
      " [  2 154]]\n",
      "              precision    recall  f1-score   support\n",
      "\n",
      "           0       0.98      0.98      0.98       106\n",
      "           1       0.99      0.99      0.99       156\n",
      "\n",
      "    accuracy                           0.98       262\n",
      "   macro avg       0.98      0.98      0.98       262\n",
      "weighted avg       0.98      0.98      0.98       262\n",
      "\n",
      "[[ 97   9]\n",
      " [ 22 134]]\n",
      "              precision    recall  f1-score   support\n",
      "\n",
      "           0       0.82      0.92      0.86       106\n",
      "           1       0.94      0.86      0.90       156\n",
      "\n",
      "    accuracy                           0.88       262\n",
      "   macro avg       0.88      0.89      0.88       262\n",
      "weighted avg       0.89      0.88      0.88       262\n",
      "\n",
      "[[ 89  17]\n",
      " [ 19 137]]\n",
      "              precision    recall  f1-score   support\n",
      "\n",
      "           0       0.82      0.84      0.83       106\n",
      "           1       0.89      0.88      0.88       156\n",
      "\n",
      "    accuracy                           0.86       262\n",
      "   macro avg       0.86      0.86      0.86       262\n",
      "weighted avg       0.86      0.86      0.86       262\n",
      "\n",
      "[[94 12]\n",
      " [77 79]]\n",
      "              precision    recall  f1-score   support\n",
      "\n",
      "           0       0.55      0.89      0.68       106\n",
      "           1       0.87      0.51      0.64       156\n",
      "\n",
      "    accuracy                           0.66       262\n",
      "   macro avg       0.71      0.70      0.66       262\n",
      "weighted avg       0.74      0.66      0.66       262\n",
      "\n"
     ]
    }
   ],
   "source": [
    "for m in model:\n",
    "    m.fit(x_train,y_train)\n",
    "    predm=m.predict(x_test)\n",
    "    print(confusion_matrix(y_test,predm))\n",
    "    print(classification_report(y_test,predm))\n",
    "#Testing the models along with their confusion matrix and classification report"
   ]
  },
  {
   "cell_type": "code",
   "execution_count": 34,
   "metadata": {},
   "outputs": [
    {
     "name": "stdout",
     "output_type": "stream",
     "text": [
      "accuracy score corresponding to random state:  42  is:  <function accuracy_score at 0x0000003B79045708>\n",
      "accuracy score corresponding to random state:  43  is:  <function accuracy_score at 0x0000003B79045708>\n",
      "accuracy score corresponding to random state:  44  is:  <function accuracy_score at 0x0000003B79045708>\n",
      "accuracy score corresponding to random state:  45  is:  <function accuracy_score at 0x0000003B79045708>\n",
      "accuracy score corresponding to random state:  46  is:  <function accuracy_score at 0x0000003B79045708>\n",
      "accuracy score corresponding to random state:  47  is:  <function accuracy_score at 0x0000003B79045708>\n",
      "accuracy score corresponding to random state:  48  is:  <function accuracy_score at 0x0000003B79045708>\n",
      "accuracy score corresponding to random state:  49  is:  <function accuracy_score at 0x0000003B79045708>\n",
      "accuracy score corresponding to random state:  50  is:  <function accuracy_score at 0x0000003B79045708>\n",
      "accuracy score corresponding to random state:  51  is:  <function accuracy_score at 0x0000003B79045708>\n",
      "accuracy score corresponding to random state:  52  is:  <function accuracy_score at 0x0000003B79045708>\n",
      "accuracy score corresponding to random state:  53  is:  <function accuracy_score at 0x0000003B79045708>\n",
      "accuracy score corresponding to random state:  54  is:  <function accuracy_score at 0x0000003B79045708>\n",
      "accuracy score corresponding to random state:  55  is:  <function accuracy_score at 0x0000003B79045708>\n",
      "accuracy score corresponding to random state:  56  is:  <function accuracy_score at 0x0000003B79045708>\n",
      "accuracy score corresponding to random state:  57  is:  <function accuracy_score at 0x0000003B79045708>\n",
      "accuracy score corresponding to random state:  58  is:  <function accuracy_score at 0x0000003B79045708>\n",
      "accuracy score corresponding to random state:  59  is:  <function accuracy_score at 0x0000003B79045708>\n",
      "accuracy score corresponding to random state:  60  is:  <function accuracy_score at 0x0000003B79045708>\n",
      "accuracy score corresponding to random state:  61  is:  <function accuracy_score at 0x0000003B79045708>\n",
      "accuracy score corresponding to random state:  62  is:  <function accuracy_score at 0x0000003B79045708>\n",
      "accuracy score corresponding to random state:  63  is:  <function accuracy_score at 0x0000003B79045708>\n",
      "accuracy score corresponding to random state:  64  is:  <function accuracy_score at 0x0000003B79045708>\n",
      "accuracy score corresponding to random state:  65  is:  <function accuracy_score at 0x0000003B79045708>\n",
      "accuracy score corresponding to random state:  66  is:  <function accuracy_score at 0x0000003B79045708>\n",
      "accuracy score corresponding to random state:  67  is:  <function accuracy_score at 0x0000003B79045708>\n",
      "accuracy score corresponding to random state:  68  is:  <function accuracy_score at 0x0000003B79045708>\n",
      "accuracy score corresponding to random state:  69  is:  <function accuracy_score at 0x0000003B79045708>\n",
      "accuracy score corresponding to random state:  70  is:  <function accuracy_score at 0x0000003B79045708>\n",
      "accuracy score corresponding to random state:  71  is:  <function accuracy_score at 0x0000003B79045708>\n",
      "accuracy score corresponding to random state:  72  is:  <function accuracy_score at 0x0000003B79045708>\n",
      "accuracy score corresponding to random state:  73  is:  <function accuracy_score at 0x0000003B79045708>\n",
      "accuracy score corresponding to random state:  74  is:  <function accuracy_score at 0x0000003B79045708>\n",
      "accuracy score corresponding to random state:  75  is:  <function accuracy_score at 0x0000003B79045708>\n",
      "accuracy score corresponding to random state:  76  is:  <function accuracy_score at 0x0000003B79045708>\n",
      "accuracy score corresponding to random state:  77  is:  <function accuracy_score at 0x0000003B79045708>\n",
      "accuracy score corresponding to random state:  78  is:  <function accuracy_score at 0x0000003B79045708>\n",
      "accuracy score corresponding to random state:  79  is:  <function accuracy_score at 0x0000003B79045708>\n",
      "accuracy score corresponding to random state:  80  is:  <function accuracy_score at 0x0000003B79045708>\n",
      "accuracy score corresponding to random state:  81  is:  <function accuracy_score at 0x0000003B79045708>\n",
      "accuracy score corresponding to random state:  82  is:  <function accuracy_score at 0x0000003B79045708>\n",
      "accuracy score corresponding to random state:  83  is:  <function accuracy_score at 0x0000003B79045708>\n",
      "accuracy score corresponding to random state:  84  is:  <function accuracy_score at 0x0000003B79045708>\n",
      "accuracy score corresponding to random state:  85  is:  <function accuracy_score at 0x0000003B79045708>\n",
      "accuracy score corresponding to random state:  86  is:  <function accuracy_score at 0x0000003B79045708>\n",
      "accuracy score corresponding to random state:  87  is:  <function accuracy_score at 0x0000003B79045708>\n",
      "accuracy score corresponding to random state:  88  is:  <function accuracy_score at 0x0000003B79045708>\n",
      "accuracy score corresponding to random state:  89  is:  <function accuracy_score at 0x0000003B79045708>\n",
      "accuracy score corresponding to random state:  90  is:  <function accuracy_score at 0x0000003B79045708>\n",
      "accuracy score corresponding to random state:  91  is:  <function accuracy_score at 0x0000003B79045708>\n",
      "accuracy score corresponding to random state:  92  is:  <function accuracy_score at 0x0000003B79045708>\n",
      "accuracy score corresponding to random state:  93  is:  <function accuracy_score at 0x0000003B79045708>\n",
      "accuracy score corresponding to random state:  94  is:  <function accuracy_score at 0x0000003B79045708>\n",
      "accuracy score corresponding to random state:  95  is:  <function accuracy_score at 0x0000003B79045708>\n",
      "accuracy score corresponding to random state:  96  is:  <function accuracy_score at 0x0000003B79045708>\n",
      "accuracy score corresponding to random state:  97  is:  <function accuracy_score at 0x0000003B79045708>\n",
      "accuracy score corresponding to random state:  98  is:  <function accuracy_score at 0x0000003B79045708>\n",
      "accuracy score corresponding to random state:  99  is:  <function accuracy_score at 0x0000003B79045708>\n",
      "accuracy score corresponding to random state:  100  is:  <function accuracy_score at 0x0000003B79045708>\n",
      "\n",
      "\n",
      "max accuracy score corresponding to  80  is  1.0\n"
     ]
    }
   ],
   "source": [
    "#DecisionTreeClassifier have highest accuracy score, \n",
    "#now we are checking that where model will give best accuracy score at optimum random_state\n",
    "max_a_score=0\n",
    "for r_state in range(42,101):\n",
    "    x_train,x_test,y_train,y_test= train_test_split(x,y,random_state=r_state,test_size=0.19)\n",
    "    dtc=DecisionTreeClassifier()\n",
    "    dtc.fit(x_train,y_train)\n",
    "    y_pred=dtc.predict(x_test)\n",
    "    ac_scr=accuracy_score(y_test,y_pred)\n",
    "    print(\"accuracy score corresponding to random state: \",r_state,\" is: \",accuracy_score)\n",
    "    if ac_scr>max_a_score:\n",
    "        max_a_score=ac_scr\n",
    "        final_r_state=r_state\n",
    "print()\n",
    "print()\n",
    "print('max accuracy score corresponding to ',final_r_state,\" is \",max_a_score)"
   ]
  },
  {
   "cell_type": "code",
   "execution_count": 36,
   "metadata": {},
   "outputs": [
    {
     "name": "stdout",
     "output_type": "stream",
     "text": [
      "1.0\n",
      "[[114   0]\n",
      " [  0 161]]\n",
      "              precision    recall  f1-score   support\n",
      "\n",
      "           0       1.00      1.00      1.00       114\n",
      "           1       1.00      1.00      1.00       161\n",
      "\n",
      "    accuracy                           1.00       275\n",
      "   macro avg       1.00      1.00      1.00       275\n",
      "weighted avg       1.00      1.00      1.00       275\n",
      "\n"
     ]
    }
   ],
   "source": [
    "#since maximum accuracy score is coming around random state 80 and using DecsionTreeClassifier model, we will use that to create our model\n",
    "x_train,x_test,y_train,y_test=train_test_split(x,y,random_state=80,test_size=0.21)\n",
    "dtc=DecisionTreeClassifier()\n",
    "dtc.fit(x_train,y_train)\n",
    "y_pred=dtc.predict(x_test)\n",
    "print(accuracy_score(y_test,y_pred))\n",
    "print(confusion_matrix(y_test,y_pred))\n",
    "print(classification_report(y_test,y_pred))"
   ]
  },
  {
   "cell_type": "code",
   "execution_count": 37,
   "metadata": {},
   "outputs": [
    {
     "data": {
      "text/plain": [
       "array([1, 1, 0, 0, 1, 0, 0, 0, 1, 0, 1, 1, 1, 1, 0, 1, 0, 1, 1, 1, 0, 1,\n",
       "       1, 0, 0, 0, 1, 0, 1, 0, 1, 0, 1, 0, 0, 1, 1, 0, 0, 1, 0, 1, 1, 1,\n",
       "       1, 1, 1, 1, 1, 1, 1, 1, 0, 0, 1, 0, 0, 1, 1, 1, 1, 0, 0, 1, 1, 1,\n",
       "       0, 0, 0, 0, 1, 0, 1, 0, 0, 1, 0, 0, 1, 0, 1, 0, 1, 0, 1, 1, 0, 0,\n",
       "       0, 1, 0, 1, 0, 1, 0, 1, 0, 1, 0, 1, 1, 1, 1, 1, 1, 0, 0, 1, 1, 0,\n",
       "       1, 0, 0, 1, 1, 1, 0, 0, 0, 1, 1, 0, 1, 1, 1, 0, 1, 0, 1, 0, 1, 1,\n",
       "       0, 1, 0, 1, 0, 0, 1, 1, 0, 1, 0, 0, 0, 0, 0, 1, 0, 1, 1, 1, 1, 1,\n",
       "       1, 0, 1, 1, 1, 0, 1, 0, 1, 1, 1, 0, 1, 0, 1, 1, 1, 0, 0, 1, 0, 1,\n",
       "       1, 1, 0, 1, 1, 0, 1, 1, 1, 1, 1, 1, 1, 0, 1, 1, 1, 0, 1, 1, 1, 1,\n",
       "       0, 0, 0, 1, 0, 0, 1, 0, 1, 1, 1, 1, 0, 0, 1, 1, 1, 1, 1, 0, 0, 1,\n",
       "       1, 1, 1, 1, 0, 1, 0, 1, 1, 1, 1, 0, 1, 1, 0, 1, 0, 1, 1, 1, 1, 1,\n",
       "       0, 1, 1, 0, 1, 0, 1, 0, 1, 0, 0, 0, 0, 1, 0, 1, 1, 1, 0, 0, 1, 0,\n",
       "       1, 1, 0, 0, 1, 0, 0, 1, 0, 0, 1], dtype=int64)"
      ]
     },
     "execution_count": 37,
     "metadata": {},
     "output_type": "execute_result"
    }
   ],
   "source": [
    "y_pred"
   ]
  },
  {
   "cell_type": "code",
   "execution_count": 38,
   "metadata": {},
   "outputs": [],
   "source": [
    "df_insurance_pred=pd.DataFrame(y_pred)                #To save the prediction in csv\n",
    "df_insurance_pred.to_csv(\"Project2_Prediction.csv\")"
   ]
  }
 ],
 "metadata": {
  "kernelspec": {
   "display_name": "Python 3",
   "language": "python",
   "name": "python3"
  },
  "language_info": {
   "codemirror_mode": {
    "name": "ipython",
    "version": 3
   },
   "file_extension": ".py",
   "mimetype": "text/x-python",
   "name": "python",
   "nbconvert_exporter": "python",
   "pygments_lexer": "ipython3",
   "version": "3.7.6"
  }
 },
 "nbformat": 4,
 "nbformat_minor": 4
}
